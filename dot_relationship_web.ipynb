{
 "cells": [
  {
   "cell_type": "code",
   "id": "initial_id",
   "metadata": {
    "collapsed": true
   },
   "source": [
    "from typing import List, Tuple\n",
    "import graphviz\n",
    "import pandas as pd\n",
    "import json\n",
    "import requests\n",
    "\n",
    "response = requests.get(\"https://zetsuboushii.github.io/tome-of-the-vastlands/api/characters.json\", stream=True)\n",
    "data = response.json()\n",
    "\n",
    "relationship_types = [\"parent\", \"parentOf\", \"maried\", \"siblings\", \"killedBy\"]\n",
    "\n",
    "relationship_types = [\"relationships\"]\n",
    "data = {\"characters\": data}\n",
    "\n",
    "relationships: List[Tuple[str, str, str]] = []\n",
    "\n",
    "\n",
    "for character in data[\"characters\"]:\n",
    "    name = character.get(\"name\", \"\")\n",
    "    #if name != (character.get(\"firstname\", \"\") + \" \" + character.get(\"lastname\", \"\")):\n",
    "        #continue\n",
    "    for rel_type in relationship_types:\n",
    "        relationships_of_type = character.get(rel_type, [])\n",
    "        if not isinstance(relationships_of_type, list): # Filter invalid data\n",
    "            continue\n",
    "        for rname, relationship_name in relationships_of_type:\n",
    "            #if len(relationship_name.split(\" \")) == 1: # Filter relationship targets with only one name\n",
    "                #continue\n",
    "            ignored = [\"U-Ranos\", \"Nayru\", \"Siegmund\"]\n",
    "            if rname in ignored or name in ignored:\n",
    "                continue\n",
    "            relationships.append((name, rname, relationship_name))\n",
    "\n",
    "rel_df = pd.DataFrame(relationships, columns=[\"Name\", \"Relationship\", \"Type\"])\n",
    "rel_df"
   ],
   "outputs": [],
   "execution_count": null
  },
  {
   "metadata": {},
   "cell_type": "code",
   "source": [
    "with open(\"graphviz.dot\", \"w\") as file:\n",
    "    file.write(\"digraph G {\\n\")\n",
    "    for name_a, name_b, rel_type in relationships:\n",
    "        file.write(\"\\\"\" + name_a + \"\\\" -> \\\"\" + name_b + \"\\\" [label=\\\"\" + rel_type + \"\\\"];\\n\")\n",
    "    file.write(\"}\")"
   ],
   "id": "7f28f6263fba3009",
   "outputs": [],
   "execution_count": null
  },
  {
   "metadata": {},
   "cell_type": "code",
   "source": "graphviz.render(\"dot\", filepath=\"graphviz.jpg\", format=\"jpg\")",
   "id": "e37201c18eabe322",
   "outputs": [],
   "execution_count": null
  }
 ],
 "metadata": {
  "kernelspec": {
   "display_name": "Python 3",
   "language": "python",
   "name": "python3"
  },
  "language_info": {
   "codemirror_mode": {
    "name": "ipython",
    "version": 2
   },
   "file_extension": ".py",
   "mimetype": "text/x-python",
   "name": "python",
   "nbconvert_exporter": "python",
   "pygments_lexer": "ipython2",
   "version": "2.7.6"
  }
 },
 "nbformat": 4,
 "nbformat_minor": 5
}
